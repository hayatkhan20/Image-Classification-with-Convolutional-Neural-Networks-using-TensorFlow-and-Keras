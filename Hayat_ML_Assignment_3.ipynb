{
 "cells": [
  {
   "cell_type": "markdown",
   "metadata": {
    "id": "hW0xiTI3BVBM"
   },
   "source": [
    "# Steps\n",
    "\n",
    "1. Importing of Libraries\n",
    "2. Loading of dataset & creation data loaders\n",
    "3. Building Model\n",
    "4. Training & Evaluation of the Model"
   ]
  },
  {
   "cell_type": "markdown",
   "metadata": {
    "id": "_8Bfv3nrBrbg"
   },
   "source": [
    "Step 1: Importing the libraries"
   ]
  },
  {
   "cell_type": "code",
   "execution_count": 2,
   "metadata": {
    "id": "Pg7euLANAvj8"
   },
   "outputs": [
    {
     "name": "stdout",
     "output_type": "stream",
     "text": [
      "WARNING:tensorflow:From C:\\Users\\hanif\\AppData\\Roaming\\Python\\Python311\\site-packages\\keras\\src\\losses.py:2976: The name tf.losses.sparse_softmax_cross_entropy is deprecated. Please use tf.compat.v1.losses.sparse_softmax_cross_entropy instead.\n",
      "\n"
     ]
    }
   ],
   "source": [
    "# Libraries\n",
    "import os\n",
    "import numpy as np\n",
    "from PIL import Image\n",
    "import matplotlib.pyplot as plt\n",
    "from random import randint\n",
    "\n",
    "from tensorflow.keras.preprocessing.image import ImageDataGenerator\n",
    "from tensorflow.keras.layers import Conv2D, AvgPool2D, BatchNormalization, Dropout, Flatten, Dense\n",
    "from tensorflow.keras.models import Sequential"
   ]
  },
  {
   "cell_type": "markdown",
   "metadata": {
    "id": "B-vK1a1QDBDo"
   },
   "source": [
    "# Step 2: Loading dataset and creation of data loaders"
   ]
  },
  {
   "cell_type": "code",
   "execution_count": 3,
   "metadata": {
    "id": "HbkCjX_uC-7m"
   },
   "outputs": [],
   "source": [
    "img_gen = ImageDataGenerator(rescale=1/255)"
   ]
  },
  {
   "cell_type": "markdown",
   "metadata": {},
   "source": [
    "Data Loader : efficiently loading and preparing the training or testing data for the CNN model"
   ]
  },
  {
   "cell_type": "code",
   "execution_count": 11,
   "metadata": {
    "colab": {
     "base_uri": "https://localhost:8080/"
    },
    "id": "Eg6qBx1sDWES",
    "outputId": "265590ff-583a-453e-aca6-d350146e70e2"
   },
   "outputs": [
    {
     "name": "stdout",
     "output_type": "stream",
     "text": [
      "Found 14034 images belonging to 6 classes.\n",
      "Found 3000 images belonging to 6 classes.\n"
     ]
    }
   ],
   "source": [
    "train_loader = img_gen.flow_from_directory(\n",
    "    directory = \"archive/seg_train/seg_train\", target_size = (128, 128), batch_size = 50, seed = 42, )\n",
    "\n",
    "test_loader = img_gen.flow_from_directory(\n",
    "    directory = \"archive/seg_test/seg_test\", target_size = (128, 128), batch_size = 50, seed = 42, )"
   ]
  },
  {
   "cell_type": "code",
   "execution_count": 12,
   "metadata": {
    "colab": {
     "base_uri": "https://localhost:8080/"
    },
    "id": "9QhP7s7ZEIvl",
    "outputId": "7e699653-54a1-4b1a-e323-c51f6b5cf770"
   },
   "outputs": [
    {
     "data": {
      "text/plain": [
       "{'buildings': 0,\n",
       " 'forest': 1,\n",
       " 'glacier': 2,\n",
       " 'mountain': 3,\n",
       " 'sea': 4,\n",
       " 'street': 5}"
      ]
     },
     "execution_count": 12,
     "metadata": {},
     "output_type": "execute_result"
    }
   ],
   "source": [
    "train_loader.class_indices"
   ]
  },
  {
   "cell_type": "code",
   "execution_count": 13,
   "metadata": {
    "id": "7Dh8ZQ5jESza"
   },
   "outputs": [],
   "source": [
    "idx_to_classes = {val:key for key,val in dict(train_loader.class_indices).items()}"
   ]
  },
  {
   "cell_type": "code",
   "execution_count": 14,
   "metadata": {
    "colab": {
     "base_uri": "https://localhost:8080/"
    },
    "id": "0ewNJnh_EtyB",
    "outputId": "33daf1c7-6d74-41ea-94dd-357c34e9a72f"
   },
   "outputs": [
    {
     "data": {
      "text/plain": [
       "{0: 'buildings',\n",
       " 1: 'forest',\n",
       " 2: 'glacier',\n",
       " 3: 'mountain',\n",
       " 4: 'sea',\n",
       " 5: 'street'}"
      ]
     },
     "execution_count": 14,
     "metadata": {},
     "output_type": "execute_result"
    }
   ],
   "source": [
    "idx_to_classes"
   ]
  },
  {
   "cell_type": "markdown",
   "metadata": {
    "id": "LLSFVLZwE2CV"
   },
   "source": [
    "# Step 3: Building the Model"
   ]
  },
  {
   "cell_type": "code",
   "execution_count": 15,
   "metadata": {
    "id": "6abQrH0VFFSX"
   },
   "outputs": [
    {
     "name": "stdout",
     "output_type": "stream",
     "text": [
      "WARNING:tensorflow:From C:\\Users\\hanif\\AppData\\Roaming\\Python\\Python311\\site-packages\\keras\\src\\backend.py:873: The name tf.get_default_graph is deprecated. Please use tf.compat.v1.get_default_graph instead.\n",
      "\n",
      "WARNING:tensorflow:From C:\\Users\\hanif\\AppData\\Roaming\\Python\\Python311\\site-packages\\keras\\src\\layers\\normalization\\batch_normalization.py:979: The name tf.nn.fused_batch_norm is deprecated. Please use tf.compat.v1.nn.fused_batch_norm instead.\n",
      "\n"
     ]
    }
   ],
   "source": [
    "model = Sequential()\n",
    "#Covolution 1\n",
    "model.add(Conv2D(32,\n",
    "                 kernel_size = (3,3),\n",
    "                 activation = \"relu\",\n",
    "                 input_shape = (128, 128, 3)))\n",
    "model.add(AvgPool2D(pool_size=(3,3)))\n",
    "model.add(BatchNormalization())\n",
    "model.add(Dropout(0.3))\n",
    "\n",
    "#Covolution 2\n",
    "model.add(Conv2D(64,\n",
    "                 kernel_size = (3,3),\n",
    "                 activation = \"relu\"))\n",
    "model.add(AvgPool2D(pool_size=(3,3)))\n",
    "model.add(BatchNormalization())\n",
    "model.add(Dropout(0.3))\n",
    "\n",
    "# Flatten & Linear Fully connected layers\n",
    "model.add(Flatten())\n",
    "model.add(Dense(32, activation = \"relu\"))\n",
    "model.add(Dense(6, activation = \"softmax\"))"
   ]
  },
  {
   "cell_type": "code",
   "execution_count": 16,
   "metadata": {
    "id": "ZVbkpspDG1N-"
   },
   "outputs": [
    {
     "name": "stdout",
     "output_type": "stream",
     "text": [
      "WARNING:tensorflow:From C:\\Users\\hanif\\AppData\\Roaming\\Python\\Python311\\site-packages\\keras\\src\\optimizers\\__init__.py:309: The name tf.train.Optimizer is deprecated. Please use tf.compat.v1.train.Optimizer instead.\n",
      "\n"
     ]
    }
   ],
   "source": [
    "model.compile(optimizer = \"adam\", loss = \"categorical_crossentropy\",\n",
    "              metrics = [\"accuracy\"])"
   ]
  },
  {
   "cell_type": "code",
   "execution_count": 17,
   "metadata": {
    "id": "Md7N-h3GHIWI"
   },
   "outputs": [],
   "source": [
    "#Steps\n",
    "train_steps = len(train_loader) # = (round(total_train_images / batch_size))\n",
    "test_steps = len(test_loader) # = (round(total_test_images / batch_size))"
   ]
  },
  {
   "cell_type": "code",
   "execution_count": null,
   "metadata": {
    "colab": {
     "base_uri": "https://localhost:8080/"
    },
    "id": "RSuejpWyHp2j",
    "outputId": "5bf09410-0bd9-40a5-f155-bcdabbb11de0"
   },
   "outputs": [
    {
     "name": "stderr",
     "output_type": "stream",
     "text": [
      "C:\\Users\\hanif\\AppData\\Local\\Temp\\ipykernel_4568\\2876239780.py:1: UserWarning: `Model.fit_generator` is deprecated and will be removed in a future version. Please use `Model.fit`, which supports generators.\n",
      "  train_metrics = model.fit_generator(\n"
     ]
    },
    {
     "name": "stdout",
     "output_type": "stream",
     "text": [
      "Epoch 1/20\n",
      "WARNING:tensorflow:From C:\\Users\\hanif\\AppData\\Roaming\\Python\\Python311\\site-packages\\keras\\src\\utils\\tf_utils.py:492: The name tf.ragged.RaggedTensorValue is deprecated. Please use tf.compat.v1.ragged.RaggedTensorValue instead.\n",
      "\n",
      "WARNING:tensorflow:From C:\\Users\\hanif\\AppData\\Roaming\\Python\\Python311\\site-packages\\keras\\src\\engine\\base_layer_utils.py:384: The name tf.executing_eagerly_outside_functions is deprecated. Please use tf.compat.v1.executing_eagerly_outside_functions instead.\n",
      "\n",
      "281/281 [==============================] - 117s 394ms/step - loss: 1.2914 - accuracy: 0.5952 - val_loss: 2.7373 - val_accuracy: 0.2793\n",
      "Epoch 2/20\n",
      "281/281 [==============================] - 112s 397ms/step - loss: 0.8012 - accuracy: 0.7201 - val_loss: 1.3245 - val_accuracy: 0.5560\n",
      "Epoch 3/20\n",
      "281/281 [==============================] - 113s 402ms/step - loss: 0.6305 - accuracy: 0.7738 - val_loss: 0.7504 - val_accuracy: 0.7420\n",
      "Epoch 4/20\n",
      "281/281 [==============================] - 107s 380ms/step - loss: 0.5161 - accuracy: 0.8114 - val_loss: 0.8062 - val_accuracy: 0.7407\n",
      "Epoch 5/20\n",
      "281/281 [==============================] - 111s 394ms/step - loss: 0.4548 - accuracy: 0.8335 - val_loss: 0.8774 - val_accuracy: 0.7333\n",
      "Epoch 6/20\n",
      "281/281 [==============================] - 112s 396ms/step - loss: 0.4075 - accuracy: 0.8492 - val_loss: 0.8110 - val_accuracy: 0.7363\n",
      "Epoch 7/20\n",
      "281/281 [==============================] - ETA: 0s - loss: 0.3583 - accuracy: 0.8677"
     ]
    }
   ],
   "source": [
    "train_metrics = model.fit_generator(\n",
    "    generator = train_loader,\n",
    "    steps_per_epoch=train_steps,\n",
    "    epochs = 20,\n",
    "    validation_data = test_loader,\n",
    "    validation_steps = test_steps)"
   ]
  },
  {
   "cell_type": "markdown",
   "metadata": {
    "id": "INXtXHL5Kva7"
   },
   "source": [
    "# Model metrics"
   ]
  },
  {
   "cell_type": "code",
   "execution_count": null,
   "metadata": {
    "id": "4auC5JabIdxM"
   },
   "outputs": [],
   "source": [
    "train_loss = train_metrics.history[\"loss\"]\n",
    "train_accuracy = train_metrics.history[\"accuracy\"]\n",
    "test_loss = train_metrics.history[\"val_loss\"]\n",
    "test_accuracy = train_metrics.history[\"val_accuracy\"]"
   ]
  },
  {
   "cell_type": "markdown",
   "metadata": {
    "id": "psgh61rBLMzX"
   },
   "source": [
    "Train Loss vs Validation Loss"
   ]
  },
  {
   "cell_type": "code",
   "execution_count": null,
   "metadata": {
    "colab": {
     "base_uri": "https://localhost:8080/",
     "height": 467
    },
    "id": "-N-JsXPeK1sh",
    "outputId": "17e81453-ee47-482a-ebb0-54700a7fa532"
   },
   "outputs": [],
   "source": [
    "plt.plot(range(20), train_loss, label = \"Train Loss\")\n",
    "plt.plot(range(20), test_loss, label = \"Test Loss\")\n",
    "plt.xlabel(\"Epochs\")\n",
    "plt.ylabel(\"Loss\")\n",
    "plt.legend()"
   ]
  },
  {
   "cell_type": "markdown",
   "metadata": {
    "id": "Z_DHHCxuL9OJ"
   },
   "source": [
    "Train accuracy vs validation accuracy"
   ]
  },
  {
   "cell_type": "code",
   "execution_count": null,
   "metadata": {
    "colab": {
     "base_uri": "https://localhost:8080/",
     "height": 466
    },
    "id": "I2f6d5VTLvSA",
    "outputId": "ef658bca-dc15-4500-bf66-85334990fac1"
   },
   "outputs": [],
   "source": [
    "plt.plot(range(20), train_accuracy, label = \"Train accuracy\")\n",
    "plt.plot(range(20), test_accuracy, label = \"Test accuracy\")\n",
    "plt.xlabel(\"Epochs\")\n",
    "plt.ylabel(\"Accuracy\")\n",
    "plt.legend()"
   ]
  },
  {
   "cell_type": "markdown",
   "metadata": {
    "id": "vTKJg4_BMgMb"
   },
   "source": [
    "# Model peformance demostration"
   ]
  },
  {
   "cell_type": "code",
   "execution_count": null,
   "metadata": {
    "id": "KdRs76FfMO9A"
   },
   "outputs": [],
   "source": [
    "pred_list = [f\"seg_pred/seg_pred/{i}\" for i in os.listdir(\"seg_pred/seg_pred\")]"
   ]
  },
  {
   "cell_type": "code",
   "execution_count": null,
   "metadata": {
    "colab": {
     "base_uri": "https://localhost:8080/",
     "height": 1000
    },
    "id": "vPic4WO9Mzbh",
    "outputId": "14832457-362b-4686-d094-7d7f95820996"
   },
   "outputs": [],
   "source": [
    "for i in range(15):\n",
    "  num = randint(0, len(pred_list))\n",
    "  img = Image.open(pred_list[num])\n",
    "  img = img.resize((128,128))\n",
    "  display(img)\n",
    "  img_arr = np.array(img)\n",
    "  img_arr = img_arr[np.newaxis, :]\n",
    "  img_arr = img_arr.astype(\"float\")\n",
    "  img_arr = img_gen.standardize(img_arr)\n",
    "  probability = model(img_arr)\n",
    "  pred = np.argmax(probability)\n",
    "  print(\"Model Prediction: \", idx_to_classes[pred])\n",
    "  print(\"=======================================\")"
   ]
  },
  {
   "cell_type": "code",
   "execution_count": null,
   "metadata": {
    "colab": {
     "base_uri": "https://localhost:8080/",
     "height": 1000
    },
    "id": "ULkkp7NsN6gG",
    "outputId": "203d65ff-292a-4b98-fbee-c3f873fea1d2"
   },
   "outputs": [],
   "source": [
    "import pydot\n",
    "from keras.utils import plot_model\n",
    "\n",
    "plot_model(model, to_file='model.png')"
   ]
  },
  {
   "cell_type": "code",
   "execution_count": null,
   "metadata": {
    "id": "604KtmW0R374"
   },
   "outputs": [],
   "source": []
  }
 ],
 "metadata": {
  "accelerator": "GPU",
  "colab": {
   "gpuType": "T4",
   "provenance": []
  },
  "kernelspec": {
   "display_name": "Python 3 (ipykernel)",
   "language": "python",
   "name": "python3"
  },
  "language_info": {
   "codemirror_mode": {
    "name": "ipython",
    "version": 3
   },
   "file_extension": ".py",
   "mimetype": "text/x-python",
   "name": "python",
   "nbconvert_exporter": "python",
   "pygments_lexer": "ipython3",
   "version": "3.11.5"
  }
 },
 "nbformat": 4,
 "nbformat_minor": 1
}
